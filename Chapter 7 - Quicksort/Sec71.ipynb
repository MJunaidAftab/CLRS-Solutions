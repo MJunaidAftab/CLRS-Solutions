{
 "cells": [
  {
   "cell_type": "code",
   "execution_count": 1,
   "metadata": {},
   "outputs": [],
   "source": [
    "import math"
   ]
  },
  {
   "cell_type": "code",
   "execution_count": 2,
   "metadata": {},
   "outputs": [],
   "source": [
    "def Partition(A,p,r):\n",
    "    \n",
    "    x = A[r]\n",
    "    i = p - 1\n",
    "    \n",
    "    for j in range(p,r):\n",
    "        \n",
    "        if A[j] <= x:\n",
    "            \n",
    "            i = i + 1\n",
    "            A[i], A[j] = A[j], A[i]\n",
    "    \n",
    "    A[i+1], A[r] = A[r], A[i+1]\n",
    "    \n",
    "    return i+1"
   ]
  },
  {
   "cell_type": "code",
   "execution_count": 3,
   "metadata": {},
   "outputs": [
    {
     "name": "stdout",
     "output_type": "stream",
     "text": [
      "[2, 1, 3, 4, 7, 5, 6, 8]\n"
     ]
    }
   ],
   "source": [
    "A = [2,8,7,1,3,5,6,4]\n",
    "index = Partition(A,0,7)\n",
    "print(A)"
   ]
  },
  {
   "cell_type": "code",
   "execution_count": 4,
   "metadata": {},
   "outputs": [],
   "source": [
    "def Quicksort(A,p,r):\n",
    "    \n",
    "    if p < r:\n",
    "        \n",
    "        q = Partition(A,p,r)\n",
    "        Quicksort(A,p,q-1)\n",
    "        Quicksort(A,q+1,r)"
   ]
  },
  {
   "cell_type": "code",
   "execution_count": 5,
   "metadata": {},
   "outputs": [
    {
     "name": "stdout",
     "output_type": "stream",
     "text": [
      "[1, 2, 3, 4, 5, 6, 7, 8]\n"
     ]
    }
   ],
   "source": [
    "A = [2,8,7,1,3,5,6,4]\n",
    "n = len(A)\n",
    "Quicksort(A,0,n-1)\n",
    "print(A)"
   ]
  },
  {
   "cell_type": "markdown",
   "metadata": {},
   "source": [
    "### 7.1.1"
   ]
  },
  {
   "cell_type": "code",
   "execution_count": 6,
   "metadata": {},
   "outputs": [
    {
     "name": "stdout",
     "output_type": "stream",
     "text": [
      "[9, 5, 8, 7, 4, 2, 6, 11, 21, 13, 19, 12]\n"
     ]
    }
   ],
   "source": [
    "A = [13,19,9,5,12,8,7,4,21,2,6,11]\n",
    "index = Partition(A,0,11)\n",
    "print(A)"
   ]
  },
  {
   "cell_type": "markdown",
   "metadata": {},
   "source": [
    "### 7.1.2\n",
    "\n",
    "The PARTITION function returns the last index. To see this, simply note that  each time we iterate through the FOR loop the condition $A[j] \\leq x$ is satisified and the value of $i$ is increased by $1$. At the end of the for loop the value of $i$ has increased from $p-1$ to $r-1$. Since we return $i+1$, the index $r$ is returned."
   ]
  },
  {
   "cell_type": "code",
   "execution_count": 7,
   "metadata": {},
   "outputs": [
    {
     "name": "stdout",
     "output_type": "stream",
     "text": [
      "9\n"
     ]
    }
   ],
   "source": [
    "A = [1,1,1,1,1,1,1,1,1,1]\n",
    "index = Partition(A,0,9)\n",
    "print(index)"
   ]
  },
  {
   "cell_type": "markdown",
   "metadata": {},
   "source": [
    "Modify the PARTITION function by simply keeping track of a running variable COUNTER. If $A[j] = x$, increment the value of COUNTER by 1. If COUNTER = $r-1$, simply return $\\big ( \\frac{p+r}{2} \\big )$."
   ]
  },
  {
   "cell_type": "code",
   "execution_count": 8,
   "metadata": {},
   "outputs": [],
   "source": [
    "def Partition_Modified(A,p,r):\n",
    "    \n",
    "    x = A[r]\n",
    "    i = p - 1\n",
    "    counter = 0\n",
    "    \n",
    "    for j in range(p,r):\n",
    "        \n",
    "        if A[j] <= x:\n",
    "            \n",
    "            i = i + 1\n",
    "            A[i], A[j] = A[j], A[i]\n",
    "            \n",
    "            if A[j] == x:\n",
    "                \n",
    "                counter = counter + 1\n",
    "    \n",
    "    A[i+1], A[r] = A[r], A[i+1]\n",
    "    \n",
    "    if counter != r:\n",
    "    \n",
    "        return i+1\n",
    "    \n",
    "    else:\n",
    "        \n",
    "        return math.floor((p+r)/2)"
   ]
  },
  {
   "cell_type": "code",
   "execution_count": 9,
   "metadata": {},
   "outputs": [
    {
     "name": "stdout",
     "output_type": "stream",
     "text": [
      "[1, 1, 1, 1, 1, 1, 1, 1, 1, 1] 4\n"
     ]
    }
   ],
   "source": [
    "A = [1,1,1,1,1,1,1,1,1,1]\n",
    "index = Partition_Modified(A,0,9)\n",
    "print(A,index)"
   ]
  },
  {
   "cell_type": "markdown",
   "metadata": {},
   "source": [
    "### 7.1.3\n",
    "\n",
    "Let $n = r - p + 1$. All the operations occupy $\\Theta ( 1 )$ space. The FOR loop runs $(r - 1) - p + 1 = r - p = \\Theta ( n )$ hence the time complexity of the algorithm is $\\Theta ( n )$."
   ]
  },
  {
   "cell_type": "markdown",
   "metadata": {},
   "source": [
    "### 7.1.4\n",
    "\n",
    "Divide the original array such that the subarray $A[p, \\cdots, q - 1]$ is such that each element of it is less than or equal to $A[q]$ and the subarray $A[q + 1, \\cdots, r]$ is such that each element is greater than or equal to $A[q]$. This simply amounts to change the comparison opertion from $A[j] <= x$ to $A[j] >= x$."
   ]
  },
  {
   "cell_type": "code",
   "execution_count": 10,
   "metadata": {},
   "outputs": [],
   "source": [
    "def Partition_Nondec(A,p,r):\n",
    "    \n",
    "    x = A[r]\n",
    "    i = p - 1\n",
    "    \n",
    "    for j in range(p,r):\n",
    "        \n",
    "        if A[j] >= x:\n",
    "            \n",
    "            i = i + 1\n",
    "            A[i], A[j] = A[j], A[i]\n",
    "    \n",
    "    A[i+1], A[r] = A[r], A[i+1]\n",
    "    \n",
    "    return i+1"
   ]
  },
  {
   "cell_type": "code",
   "execution_count": 11,
   "metadata": {},
   "outputs": [],
   "source": [
    "def Quicksort_Nondec(A,p,r):\n",
    "    \n",
    "    if p < r:\n",
    "        \n",
    "        q = Partition_Nondec(A,p,r)\n",
    "        Quicksort_Nondec(A,p,q-1)\n",
    "        Quicksort_Nondec(A,q+1,r)"
   ]
  },
  {
   "cell_type": "code",
   "execution_count": 12,
   "metadata": {},
   "outputs": [
    {
     "name": "stdout",
     "output_type": "stream",
     "text": [
      "[8, 7, 6, 5, 4, 3, 2, 1]\n"
     ]
    }
   ],
   "source": [
    "A = [2,8,7,1,3,5,6,4]\n",
    "n = len(A)\n",
    "Quicksort_Nondec(A,0,n-1)\n",
    "print(A)"
   ]
  },
  {
   "cell_type": "code",
   "execution_count": null,
   "metadata": {},
   "outputs": [],
   "source": []
  }
 ],
 "metadata": {
  "kernelspec": {
   "display_name": "Python 3",
   "language": "python",
   "name": "python3"
  },
  "language_info": {
   "codemirror_mode": {
    "name": "ipython",
    "version": 3
   },
   "file_extension": ".py",
   "mimetype": "text/x-python",
   "name": "python",
   "nbconvert_exporter": "python",
   "pygments_lexer": "ipython3",
   "version": "3.7.6"
  }
 },
 "nbformat": 4,
 "nbformat_minor": 4
}
