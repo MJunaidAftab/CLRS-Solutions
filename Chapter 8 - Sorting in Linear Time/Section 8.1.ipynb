{
 "cells": [
  {
   "cell_type": "markdown",
   "metadata": {},
   "source": [
    "### 8.1.1\n",
    "\n",
    "Assume the array has $n$ elements. Then we have that the smallest depth of a leaf in the binary decision tree will be $n$. This will be achieved when the array is already sorted. \n",
    "\n",
    "### 8.1.2\n",
    "\n",
    "Clear. See notes. Use the integral test.\n",
    "\n",
    "### 8.1.3\n",
    "\n",
    "Consider $n!/2$ inputs when we run a comparison sort algorithm. If $l$ denotes the number of reachable leaves, and $h$ denotes the height of the binary tree, we must have that,\n",
    "\n",
    "$$\n",
    "n!/2 \\leq l \\leq 2^{h}.\n",
    "$$\n",
    "\n",
    "Taking logs, we have that we must have $h \\geq \\lg (n! / 2) = \\Theta \\big ( \\frac{n \\ lg n }{2} \\big ) = \\Theta ( n \\lg n)$. Hence even in the worst case, we must have that $ h = \\Omega ( n \\lg n)$.\n",
    "\n",
    "Now let's consider $1/n$ of the inputs of length $n$. We have the inequality,\n",
    "\n",
    "$$\n",
    "(n-1)! = n!/n \\leq l \\leq 2^{h}.\n",
    "$$\n",
    "\n",
    "Taking logs, we have that we must have $h \\geq \\lg ((n-1)!) = \\Theta ( (n - 1) \\lg (n - 1) ) = \\Theta ( n \\lg n) $. So again the answer is no.\n",
    "\n",
    "Now let's consider $1/2^{n}$ of the inputs of length $n$. We have the inequality,\n",
    "\n",
    "$$\n",
    "n!/2^{n} \\leq l \\leq 2^{h}.\n",
    "$$\n",
    "\n",
    "Taking logs, we have that we must have $h \\geq \\lg ( n!/2^{n} ) = \\lg (n!) - n = \\Theta (n \\lg n ) - \\Theta ( n ) = \\Theta ( n ) = \\Theta (n \\lg n)$. So again the answer is no.\n",
    "\n",
    "### 8.1.4\n",
    "\n",
    "Consider $n/k$ binary trees, drawn side by side, illustrating the comparison sort algorthim on the $n/k$ subsequences. Now if $l$ denotes the TOTAL number of reachable leaves and if $h$ denotes the MAXIMUM of the individual heights of all the trees, we must have that,\n",
    "\n",
    "$$\n",
    "(n/k) k! \\leq l \\leq 2^{h}.\n",
    "$$\n",
    "\n",
    "Taking logs, we get that we must have $h \\geq \\lg \\big ( \\frac{n}{k} k! \\big ) = \\lg  ( n (k-1)! ) = \\Theta ( n \\lg k)$. Hence we must have that $h = \\Omega (n \\lg k)$."
   ]
  },
  {
   "cell_type": "code",
   "execution_count": null,
   "metadata": {},
   "outputs": [],
   "source": []
  }
 ],
 "metadata": {
  "kernelspec": {
   "display_name": "Python 3",
   "language": "python",
   "name": "python3"
  },
  "language_info": {
   "codemirror_mode": {
    "name": "ipython",
    "version": 3
   },
   "file_extension": ".py",
   "mimetype": "text/x-python",
   "name": "python",
   "nbconvert_exporter": "python",
   "pygments_lexer": "ipython3",
   "version": "3.7.6"
  }
 },
 "nbformat": 4,
 "nbformat_minor": 4
}
