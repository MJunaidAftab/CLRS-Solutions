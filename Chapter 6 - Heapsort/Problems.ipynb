{
 "cells": [
  {
   "cell_type": "markdown",
   "metadata": {},
   "source": [
    "### 6.1"
   ]
  },
  {
   "cell_type": "code",
   "execution_count": 2,
   "metadata": {},
   "outputs": [],
   "source": [
    "import math\n",
    "\n",
    "def Max_Heapify(A,i,heap_size):\n",
    "    \n",
    "    index = i\n",
    "    left = 2*index + 1\n",
    "    right = 2*index + 2\n",
    "    \n",
    "    while left <= heap_size or right <=heap_size:\n",
    "        \n",
    "        largest = index\n",
    "        \n",
    "        if left <= heap_size and A[left] > A[largest]: \n",
    "        \n",
    "                largest = left\n",
    "    \n",
    "        if right <=heap_size and A[right] > A[largest]:\n",
    "            \n",
    "            largest = right\n",
    "        \n",
    "        if largest == index:\n",
    "            \n",
    "            return A\n",
    "        \n",
    "        if largest != i :\n",
    "        \n",
    "            A[index], A[largest] = A[largest], A[index]\n",
    "            \n",
    "            index = largest\n",
    "            left = 2*index + 1\n",
    "            right = 2*index + 2\n",
    "            \n",
    "    return A  \n",
    "\n",
    "def Build_Max_Heap(A,heap_size):\n",
    "\n",
    "    n = len(A)\n",
    "    q = math.floor(n/2)\n",
    "    \n",
    "    for index in range(q,-1,-1):\n",
    "        \n",
    "        Max_Heapify(A,index,heap_size)\n",
    "    \n",
    "    return A"
   ]
  },
  {
   "cell_type": "code",
   "execution_count": 80,
   "metadata": {},
   "outputs": [
    {
     "data": {
      "text/plain": [
       "[5, 4, 3, 1, 2]"
      ]
     },
     "execution_count": 80,
     "metadata": {},
     "output_type": "execute_result"
    }
   ],
   "source": [
    "A = [1,2,3,4,5]\n",
    "n = len(A)\n",
    "\n",
    "Build_Max_Heap(A,n-1)"
   ]
  },
  {
   "cell_type": "code",
   "execution_count": 86,
   "metadata": {},
   "outputs": [],
   "source": [
    "def Heap_Increase_Key(i,key,heap_size,heap): \n",
    "        \n",
    "    heap[i] = key\n",
    "    parent = math.floor((i-1)/2)\n",
    "    index = i\n",
    "        \n",
    "    while parent >=0 and heap[index] > heap[parent]:\n",
    "            \n",
    "        heap[index], heap[parent] = heap[parent], heap[index]\n",
    "            \n",
    "        index = parent\n",
    "        parent = math.floor((parent-1)/2)\n",
    "         \n",
    "    return heap\n",
    "    \n",
    "def Max_Heap_Insert(key,heap_size,heap):\n",
    "        \n",
    "    heap_size = heap_size + 1 \n",
    "    heap.append(-99999999999999999)\n",
    "        \n",
    "    Heap_Increase_Key(heap_size,key,heap_size,heap)\n",
    "        \n",
    "    return heap\n",
    "    \n",
    "def Build_Max_Heap_Prime(A):\n",
    "\n",
    "    H = []\n",
    "    heap_size = len(H) - 1\n",
    "    n = len(A)\n",
    "    \n",
    "    for i in range(n):\n",
    "        \n",
    "        H = Max_Heap_Insert(A[i],heap_size,H)\n",
    "        heap_size = heap_size + 1\n",
    "        \n",
    "    return H"
   ]
  },
  {
   "cell_type": "code",
   "execution_count": 87,
   "metadata": {
    "scrolled": true
   },
   "outputs": [
    {
     "data": {
      "text/plain": [
       "[5, 4, 2, 1, 3]"
      ]
     },
     "execution_count": 87,
     "metadata": {},
     "output_type": "execute_result"
    }
   ],
   "source": [
    "A = [1,2,3,4,5]\n",
    "Build_Max_Heap_Prime(A)"
   ]
  },
  {
   "cell_type": "markdown",
   "metadata": {},
   "source": [
    "Execute the list $[1,2,3,4,5]$ to generate the counter-example.\n",
    "\n",
    "The complexity is clearly $\\Theta ( n \\lg n)$. The FOR loop is executed $\\Theta ( n )$ times and the MAX_HEAP_INSERT function takes $\\Theta ( \\lg n)$ steps to run. So the time complexity of the algorithm is $ \\Theta ( n \\lg n)$. This, of course, is sub-optimal to the BUILD_MAX_HEAP function which builds the heap in $\\Theta ( n )$ time complexity."
   ]
  },
  {
   "cell_type": "markdown",
   "metadata": {},
   "source": [
    "### 6.2"
   ]
  },
  {
   "cell_type": "code",
   "execution_count": null,
   "metadata": {},
   "outputs": [],
   "source": []
  }
 ],
 "metadata": {
  "kernelspec": {
   "display_name": "Python 3",
   "language": "python",
   "name": "python3"
  },
  "language_info": {
   "codemirror_mode": {
    "name": "ipython",
    "version": 3
   },
   "file_extension": ".py",
   "mimetype": "text/x-python",
   "name": "python",
   "nbconvert_exporter": "python",
   "pygments_lexer": "ipython3",
   "version": "3.7.6"
  }
 },
 "nbformat": 4,
 "nbformat_minor": 4
}
