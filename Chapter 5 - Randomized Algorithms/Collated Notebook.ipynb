{
 "cells": [
  {
   "cell_type": "markdown",
   "metadata": {},
   "source": [
    "### 5.1.1\n",
    "\n",
    "This is clear. The assumption implies that we are in a position to to define an ordrer relation on the set of candidates, indexed by natural number, such that any two indicies can be compared with each other.\n",
    "\n",
    "### 5.2.2 \n",
    "\n",
    "We write pseudocode"
   ]
  },
  {
   "cell_type": "code",
   "execution_count": 38,
   "metadata": {},
   "outputs": [],
   "source": [
    "import math\n",
    "\n",
    "def random(a,b):\n",
    "    \n",
    "    n = b - a\n",
    "    \n",
    "    if n == 0:\n",
    "        \n",
    "        return a #which is equal to b\n",
    "    \n",
    "    if n == 1:\n",
    "        \n",
    "        x = random(0,1)\n",
    "        \n",
    "        if x == 0:\n",
    "            \n",
    "            return a\n",
    "        \n",
    "        else:\n",
    "        \n",
    "            return b #which is a + 1\n",
    "    \n",
    "    else:\n",
    "        \n",
    "        middle = math.floor((a+b)/2)\n",
    "        \n",
    "        x = random(0,1)\n",
    "        \n",
    "        if x == 0:\n",
    "            \n",
    "            z = random(a,middle)\n",
    "            return z\n",
    "        \n",
    "        else:\n",
    "            \n",
    "            z = random(middle + 1, b)\n",
    "            return z   "
   ]
  },
  {
   "cell_type": "markdown",
   "metadata": {},
   "source": [
    "The recurrence relation describing this algorithm is given by,\n",
    "\n",
    "$$\n",
    "T(n) = T(n/2) + \\Theta ( 1 ).\n",
    "$$\n",
    "\n",
    "We're assuming the $Ranom(0,1)$ function can be implemented in constant time. By the master method, the solution to this recurrence is $\\Theta ( n \\lg n )$, where $n = b - a$"
   ]
  },
  {
   "cell_type": "markdown",
   "metadata": {},
   "source": [
    "### 5.3.3"
   ]
  },
  {
   "cell_type": "code",
   "execution_count": 39,
   "metadata": {},
   "outputs": [],
   "source": [
    "def unbiased_random(p):\n",
    "    \n",
    "    if p == 1/2:\n",
    "        \n",
    "        y = math.unbiased_random\n",
    "        return y\n",
    "    \n",
    "    else:\n",
    "        \n",
    "        p_prime = 1 - p\n",
    "        x = biased_random(p_prime)\n",
    "        r = random(0,1) #random floating number between 0 and 1.\n",
    "        \n",
    "        if x == 0:\n",
    "            \n",
    "            y = biased_random(r)\n",
    "            return y\n",
    "        \n",
    "        if x == 1:\n",
    "            \n",
    "            y = biased_random((0.5 - r*p_prime)/(1-p))\n",
    "            return y\n",
    "        \n",
    "        \n",
    "#Here we assume that we can check whether p is 1/2 or not. Use conditional probability analysis to argue\n",
    "#that the resulting algorithm is unbiased."
   ]
  },
  {
   "cell_type": "markdown",
   "metadata": {},
   "source": [
    "### 5.2.1\n",
    "\n",
    "We hire a candidate exactly 1 time if is first candidate is best among all the candidates. Hence noting that the probability that candidate $i$ is hired is $1/i$, the desired probability is given by,\n",
    "\n",
    "$$\n",
    "\\prod_{i = 2}^{n} = 1 - 1/i \\prod_{i = 2}^{n} = \\frac{i - 1}{i} \\frac{1}{2} \\frac{2}{3} \\cdots \\frac{n-1}{n} = 1/n.\n",
    "$$\n",
    "\n",
    "We hire exactly $n$ times if each successive candidate is hired. The probability that candidate $i$ is hired is $1/i$, so the desired probability is,\n",
    "\n",
    "$$\n",
    "\\prod_{i = 1}^{n} = \\frac{1}{i} = \\frac{1}{n!}.\n",
    "$$\n",
    "\n",
    "### 5.2.2\n",
    "\n",
    "We can hire exactly twice in a number of ways. Note that we always hire the first candidate, so then any of the second, third and so forth candidates can be hired. Let $p_{1, i}$ denote the probability that candidates 1 and $i, i = 2, \\cdots n$ are hired. This probability is given by,\n",
    "\n",
    "$$\n",
    "p_{1, i} = 1/i \\prod_{j = 2, j \\neq i}^{n} 1 - 1/j = 1/i \\prod_{j = 2, j \\neq i}^{n} \\frac{j - 1}{j} = \\frac{1}{2} \\frac{2}{3} \\cdots \\frac{i - 2}{i - 1} \\frac{1}{i} \\frac{i}{i + 1} \\cdots \\frac{n - 1}{n} = \\frac{1}{i n}.\n",
    "$$\n",
    "\n",
    "Since the events are mutually exclusive, the desired property is given by,\n",
    "\n",
    "$$\n",
    "\\sum_{i = 2}^{n} p_{1, i} = \\frac{1}{i n} = \\frac{ \\sum_{i = 2}^{n} 1/i}{n} = O \\bigg ( \\frac{\\lg n }{n} \\bigg ).\n",
    "$$\n",
    "\n",
    "### 5.2.3\n",
    "\n",
    "Let $X_i$ denote the value appeared on the $i^{th}$ roll of the dice. We are interested in computing the expected value of $X = X_{1} + \\cdots + X_{n}$, which is,\n",
    "\n",
    "$$\n",
    "E(X) = nE(X_{1}) = 3n/2.\n",
    "$$\n",
    "\n",
    "### 5.2.4\n",
    "\n",
    "Let $X_{i}$ denote the indicator random variable which is equal to $1$ is person $i$ gets back his/her hat. Now person $i$ gets back his/her hat back with probability (n-1)!/n! = 1/n. Hence the expected value is,\n",
    "\n",
    "$$\n",
    "E \\big ( \\sum_{i = 1}^{n} X_{i} \\big ) = \\sum_{i = 1}^{n} P(X_{i}) = n/n = 1.\n",
    "$$\n",
    "\n",
    "### 5.2.5\n",
    "\n",
    "Let $X_{i, j}$ be the indicated ranom variable which is 1 when $A(i) > A(j)$ for $i < j$. Now $P(X_{i, j} = 1) = 1/2  $. We reason as follows: for any fixed permutation of the remaining $n-2$ indicides, there are two choices two fix $A(i)$ and A(j)$ and this pair is inverted in exactly one of these choices. Hence, we get,\n",
    "\n",
    "$$\n",
    "E(X) = E \\bigg ( \\sum_{i < j} X_{i, j} \\bigg ) = {n \\choose 2} \\frac{1}{2} = \\frac{n(n-1)}{2}{2} = \\frac{n(n-1)}{4}.\n",
    "$$"
   ]
  },
  {
   "cell_type": "code",
   "execution_count": 163,
   "metadata": {},
   "outputs": [],
   "source": [
    "def permute_by_sorting(A):\n",
    "    \n",
    "    import random\n",
    "    \n",
    "    n = len(A)\n",
    "    P = []\n",
    "    \n",
    "    d = {}\n",
    "    \n",
    "    for i in range(n):\n",
    "        \n",
    "        x = random.randint(1,n**3)\n",
    "        P.append(x)\n",
    "        \n",
    "        d[x] = A[i]\n",
    "    \n",
    "    P.sort()\n",
    "    \n",
    "    for i in range(n):\n",
    "        \n",
    "        x = d.get(P[i])\n",
    "        A[i] = x\n",
    "        \n",
    "    return A\n",
    "\n",
    "# HERE WE USE AN INBUILT FUNCTION SORT. READ CLRS WHICH STATES THAT IF WE USE COMPARISON SORT\n",
    "# IT TAKES AT LEAST N*LOGN STEPS. MERGE SORT TAKES N*LOGN 'STEPS', SO SORT CAN BE IMPLEMENTED IN\n",
    "# N*LOGN TIME.\n",
    "\n",
    "#THIS SHOWS THAT THE TIME COMLEXITY IS  O(N*LOGN)."
   ]
  },
  {
   "cell_type": "code",
   "execution_count": 162,
   "metadata": {},
   "outputs": [
    {
     "name": "stdout",
     "output_type": "stream",
     "text": [
      "[2353, 21, 12, 5, 10, 2, 56, 77, 989, 444]\n"
     ]
    }
   ],
   "source": [
    "A = [5,2,10,444,2353,77,989,56,21,12]\n",
    "B = permute_by_sorting(A)\n",
    "print(B)"
   ]
  },
  {
   "cell_type": "code",
   "execution_count": 179,
   "metadata": {},
   "outputs": [],
   "source": [
    "def randomize_in_place(A):\n",
    "    \n",
    "    import random\n",
    "    n = len(A)\n",
    "    \n",
    "    for i in range(n):\n",
    "        x = random.randint(i,n-1)\n",
    "        A[i], A[x] = A[x], A[i]\n",
    "        \n",
    "    return A    "
   ]
  },
  {
   "cell_type": "code",
   "execution_count": 180,
   "metadata": {},
   "outputs": [
    {
     "name": "stdout",
     "output_type": "stream",
     "text": [
      "[989, 21, 2, 2353, 5, 444, 10, 77, 56, 12]\n"
     ]
    }
   ],
   "source": [
    "A = [5,2,10,444,2353,77,989,56,21,12]\n",
    "B = randomize_in_place(A)\n",
    "print(B)"
   ]
  },
  {
   "cell_type": "code",
   "execution_count": null,
   "metadata": {},
   "outputs": [],
   "source": []
  }
 ],
 "metadata": {
  "kernelspec": {
   "display_name": "Python 3",
   "language": "python",
   "name": "python3"
  },
  "language_info": {
   "codemirror_mode": {
    "name": "ipython",
    "version": 3
   },
   "file_extension": ".py",
   "mimetype": "text/x-python",
   "name": "python",
   "nbconvert_exporter": "python",
   "pygments_lexer": "ipython3",
   "version": "3.7.6"
  }
 },
 "nbformat": 4,
 "nbformat_minor": 4
}
