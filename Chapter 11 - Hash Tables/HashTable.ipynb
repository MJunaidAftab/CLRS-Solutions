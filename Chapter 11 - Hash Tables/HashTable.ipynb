{
 "cells": [
  {
   "cell_type": "code",
   "execution_count": 5,
   "metadata": {},
   "outputs": [],
   "source": [
    "from ipynb.fs.full.DLL import Node\n",
    "from ipynb.fs.full.DLL import Doubly_Linked_List\n",
    "import random"
   ]
  },
  {
   "cell_type": "code",
   "execution_count": 6,
   "metadata": {},
   "outputs": [],
   "source": [
    "class Hash_with_Chaining(object):\n",
    "    \n",
    "    def __init__(self,m,U,hashfunction):\n",
    "        \n",
    "        self.universe = U\n",
    "        \n",
    "        absmin = abs(min(U))\n",
    "        absmax = abs(max(U))\n",
    "        depth = max([absmin,absmax])\n",
    "        \n",
    "        self.hashvalues = [None]*(depth + 1)\n",
    "        \n",
    "        self.hashfunction = hashfunction\n",
    "        \n",
    "        self.tablesize = m\n",
    "        self.dlllist = [None]*m\n",
    "        \n",
    "    def getDlllist(self):\n",
    "        \n",
    "        return self.dlllist\n",
    "    \n",
    "    \n",
    "    def insert(self, x, hasfunctioninput):\n",
    "        \n",
    "        position = self.hashfunction(hasfunctioninput)\n",
    "        dll = self.dlllist[position]\n",
    "        \n",
    "        if dll == None:\n",
    "            \n",
    "            A = Doubly_Linked_List()\n",
    "            A.add(x)\n",
    "            \n",
    "            self.dlllist[position] = A\n",
    "            \n",
    "            self.hashvalues[abs(x)] = position\n",
    "            \n",
    "        else:\n",
    "            \n",
    "            dll.add(x)\n",
    "            self.dlllist[position] = dll\n",
    "            \n",
    "            self.hashvalues[abs(x)] = position\n",
    "            \n",
    "    def search(self, x):\n",
    "        \n",
    "        #position = self.hashvalues[abs(x)]\n",
    "        position = self.hashfunction(self.tablesize)\n",
    "        dll = self.dlllist[position]\n",
    "        \n",
    "        if dll == None:\n",
    "            \n",
    "            print('The doubly linked list is empty.')\n",
    "            \n",
    "        else:\n",
    "            \n",
    "            Boolean = dll.search(x)\n",
    "            \n",
    "            if Boolean == True:\n",
    "                \n",
    "                print(x, 'is in the doubly linked list at evalauated at index', position )\n",
    "                \n",
    "            else:\n",
    "                \n",
    "                print(x, 'is not in the doubly linked list evalauated at index', position)\n",
    "                \n",
    "                \n",
    "    def delete(self,x):\n",
    "        \n",
    "        position = self.hashvalues[abs(x)]\n",
    "        dll = self.dlllist[position]\n",
    "        \n",
    "        dll.delete(x)\n",
    "        self.dlllist[position] = dll"
   ]
  },
  {
   "cell_type": "markdown",
   "metadata": {},
   "source": [
    "Note insertion takes $O(1)$ time, and deletion, and search takes $O(l)$ time, where $l$ is the length of the linked list being searched. Note that here are assuming that while the node to be deleted is known, the pointer to that node is NOT available/known, which is implicit in our implementation of the doubly linked list class from before."
   ]
  },
  {
   "cell_type": "code",
   "execution_count": 7,
   "metadata": {},
   "outputs": [
    {
     "name": "stdout",
     "output_type": "stream",
     "text": [
      "The doubly linked list at index 0 is given by:\n",
      "21\n",
      "31\n",
      "41\n",
      "61\n",
      "71\n",
      "81\n",
      "---------------------------------------------\n",
      "The doubly linked list at index 1 is given by:\n",
      "2\n",
      "11\n",
      "51\n",
      "91\n",
      "---------------------------------------------\n"
     ]
    }
   ],
   "source": [
    "def hashfunction(m):\n",
    "\n",
    "    position = random.randint(0, m-1)\n",
    "    \n",
    "    return position\n",
    "\n",
    "\n",
    "U = list(range(1,101))\n",
    "\n",
    "H = Hash_with_Chaining(2,U,hashfunction)\n",
    "\n",
    "H.insert(U[1],2)\n",
    "H.insert(U[10],2)\n",
    "H.insert(U[20],2)\n",
    "H.insert(U[30],2)\n",
    "H.insert(U[40],2)\n",
    "H.insert(U[50],2)\n",
    "H.insert(U[60],2)\n",
    "H.insert(U[70],2)\n",
    "H.insert(U[80],2)\n",
    "H.insert(U[90],2)\n",
    "\n",
    "D = H.getDlllist()\n",
    "\n",
    "for index in range(len(D)):\n",
    "\n",
    "    A = D[index] \n",
    "    \n",
    "    if A == None:\n",
    "        \n",
    "        print('The doubly linked list at index', index, 'is empty.')\n",
    "        print('---------------------------------------------')\n",
    "    \n",
    "    else:\n",
    "    \n",
    "        x = A.getHead()\n",
    "        print('The doubly linked list at index', index, 'is given by:')\n",
    "        print(x.getData())\n",
    "\n",
    "        while x.getNext() != None:\n",
    "    \n",
    "            print(x.getNext().getData())\n",
    "            x = x.getNext()\n",
    "            \n",
    "        print('---------------------------------------------')   "
   ]
  },
  {
   "cell_type": "code",
   "execution_count": 8,
   "metadata": {},
   "outputs": [
    {
     "name": "stdout",
     "output_type": "stream",
     "text": [
      "2 is in the doubly linked list at evalauated at index 1\n"
     ]
    }
   ],
   "source": [
    "H.search(2)"
   ]
  },
  {
   "cell_type": "code",
   "execution_count": null,
   "metadata": {},
   "outputs": [],
   "source": []
  }
 ],
 "metadata": {
  "kernelspec": {
   "display_name": "Python 3",
   "language": "python",
   "name": "python3"
  },
  "language_info": {
   "codemirror_mode": {
    "name": "ipython",
    "version": 3
   },
   "file_extension": ".py",
   "mimetype": "text/x-python",
   "name": "python",
   "nbconvert_exporter": "python",
   "pygments_lexer": "ipython3",
   "version": "3.7.6"
  }
 },
 "nbformat": 4,
 "nbformat_minor": 4
}
