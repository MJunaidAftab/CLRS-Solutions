{
 "cells": [
  {
   "cell_type": "code",
   "execution_count": 1,
   "metadata": {},
   "outputs": [],
   "source": [
    "from ipynb.fs.full.HashTable import Hash_with_Chaining"
   ]
  },
  {
   "cell_type": "markdown",
   "metadata": {},
   "source": [
    "### 11.2.1\n",
    "\n",
    "Note that a collision takes place if and only if for each of the $i = 1, ..., n$ elements stored in the array, $T$, we have that for some $j = i + 1, ... , n$, we have that $h(i) = h(j)$. Let $X_{ij}$ be the indicator random variable that assumes the value $1$ if $h(i) = h(j)$. First note that if the key if fixed to be $i$, denote by $N | slot = i$ the numbers of collisions take place in the slot $h(i)$. We have,\n",
    "\n",
    "$$\n",
    "\\mathbb{E} (N | slot = i ) = \\mathbb{E} \\bigg ( \\sum_{j = i + 1}^{n} X_{ij} \\bigg ) = \\sum_{j = i + 1}^{n} \\mathbb{E} ( X_{ij} ) = \\sum_{j = i + 1}^{n} \\frac{1}{m} = \\frac{n - i}{m}.\n",
    "$$\n",
    "\n",
    "Hence we have a new random variable, $M$, that assumes the values $\\frac{n - i}{m}, i = 1, ..., n$. Hence the desired expected value is given by,\n",
    "\n",
    "$$\n",
    "\\mathbb{E} ( N ) = \\mathbb{E} \\bigg ( \\sum_{i = 1}^{n} \\sum_{j = i + 1}^{n} X_{ij} \\bigg ) = \\sum_{i = 1}^{n} \\frac{n - i}{m} = \\frac{1}{m} \\sum_{i = 1}^{n} (n - i) = \\frac{1}{m} \\sum_{k = 0}^{n - 1} k = \\frac{1}{m} \\frac{n(n-1)}{2} = \\frac{n(n-1)}{2m} = \\frac{n \\alpha - \\alpha}{2} = \\frac{\\alpha( n - 1)}{2}.\n",
    "$$"
   ]
  },
  {
   "cell_type": "markdown",
   "metadata": {},
   "source": [
    "### 11.2.2"
   ]
  },
  {
   "cell_type": "code",
   "execution_count": 2,
   "metadata": {},
   "outputs": [
    {
     "name": "stdout",
     "output_type": "stream",
     "text": [
      "The doubly linked list at index 0 is empty.\n",
      "---------------------------------------------\n",
      "The doubly linked list at index 1 is given by:\n",
      "28\n",
      "19\n",
      "10\n",
      "---------------------------------------------\n",
      "The doubly linked list at index 2 is given by:\n",
      "20\n",
      "---------------------------------------------\n",
      "The doubly linked list at index 3 is given by:\n",
      "12\n",
      "---------------------------------------------\n",
      "The doubly linked list at index 4 is empty.\n",
      "---------------------------------------------\n",
      "The doubly linked list at index 5 is given by:\n",
      "5\n",
      "---------------------------------------------\n",
      "The doubly linked list at index 6 is given by:\n",
      "15\n",
      "33\n",
      "---------------------------------------------\n",
      "The doubly linked list at index 7 is empty.\n",
      "---------------------------------------------\n",
      "The doubly linked list at index 8 is given by:\n",
      "17\n",
      "---------------------------------------------\n"
     ]
    }
   ],
   "source": [
    "def hashfunction(k):\n",
    "\n",
    "    position = k % 9\n",
    "    \n",
    "    return position\n",
    "\n",
    "\n",
    "U = list(range(1,101))\n",
    "\n",
    "H = Hash_with_Chaining(9,U,hashfunction)\n",
    "\n",
    "H.insert(5,5)\n",
    "H.insert(28,28)\n",
    "H.insert(19,19)\n",
    "H.insert(15,15)\n",
    "H.insert(20,20)\n",
    "H.insert(33,33)\n",
    "H.insert(12,12)\n",
    "H.insert(17,17)\n",
    "H.insert(10,10)\n",
    "\n",
    "D = H.getDlllist()\n",
    "\n",
    "for index in range(len(D)):\n",
    "\n",
    "    A = D[index] \n",
    "    \n",
    "    if A == None:\n",
    "        \n",
    "        print('The doubly linked list at index', index, 'is empty.')\n",
    "        print('---------------------------------------------')\n",
    "    \n",
    "    else:\n",
    "    \n",
    "        x = A.getHead()\n",
    "        print('The doubly linked list at index', index, 'is given by:')\n",
    "        print(x.getData())\n",
    "\n",
    "        while x.getNext() != None:\n",
    "    \n",
    "            print(x.getNext().getData())\n",
    "            x = x.getNext()\n",
    "            \n",
    "        print('---------------------------------------------') "
   ]
  },
  {
   "cell_type": "markdown",
   "metadata": {},
   "source": [
    "We see that a key getes mapped to index $i = 0, 1, ..., 8$ if and only if we have that $\\text{key} \\bmod 9 = i$. Note that we have programmed the doubly linked list such that each new element is insert at the tail end of the list!"
   ]
  },
  {
   "cell_type": "markdown",
   "metadata": {},
   "source": [
    "### 11.2.3\n",
    "\n",
    "Using a binary search, we can now implement deletion in $\\Theta ( \\lg \\alpha )$ time. Here, once again we are assuming that the pointer to they key being deleted is unknown, and that the value of the hash function at each key is stored. Insertion now also takes place $\\Theta ( \\alpha )$ time, since we must sort the keys in each doubly linked list. Both successful and unsuccessful searches again take $\\Theta (1 +  \\alpha )$ time.\n",
    "\n",
    "### 11.2.5\n",
    "\n",
    "Assume the conditions of uniform hashing. As a thought experiment, assume we're hashing *all* the elements in the universe into the hash table. Assume that all the $m$ slots contain at most $n-1$ keys. We then have that the hash table contains at most,\n",
    "\n",
    "$$\n",
    "m(n-1) = mn - m \\; \\text{keys} \\quad m \\geq 1,\n",
    "$$\n",
    "\n",
    "contrary to the fact that we have $|U| > mn$ and we are hashing into all keys from the universe in the hashtable. So we are a guarnteed that there exists a subset of $n$ keys in the universe that all hash to the same slot. \n",
    "\n",
    "### 11.2.6\n",
    "\n",
    "<font color='red'>This is how we have interpreted the problem: we assume, ex-ante, a number at random is chosen from the $n$ numbers placed in the hash table. Along with the number, we also generate the index which determines at what 'time' the number was added in the hash table. This is a different spin on the original intention on this questions, but oh well...</font> \n",
    "\n",
    "For each chosen key, $i$, that is to be printed, follow the following scheme: pick a linked list at random, and search the linked list for the element. Searching each linked list takes $O(L)$ time. If we don't find this element, discard this list, and now pick another linked list at random repeat the process untill we're done. Let $T$ denote the time it takes for this scheme to run, and $K$ be the event that takes value $i$ if key $i$ is being searched. The time complexity of the algorithm is given by the expression,\n",
    "\n",
    "$$\n",
    "\\mathbb{E}(T) = \\mathbb{E} ( \\mathbb{E} (T|K) ) = \\frac{1}{n} \\sum_{i = 1}^{n} \\mathbb{E} (T | K = i ).\n",
    "$$\n",
    "\n",
    "We have that key $i$ can be searched in at most $m$ steps of the recursion procession described above. The probability of the key being searched successfully at the $k^{th}$ step is,\n",
    "\n",
    "$$\n",
    "\\frac{m-1}{m}\\frac{m-2}{m-1} \\cdots \\frac{m-(k-1)}{m-k}\\frac{1}{m-(k-1)} = \\frac{1}{m}.\n",
    "$$\n",
    "\n",
    "Assume the keys are aranged in order in which they were added to the hash table. So we know, for example, that key number $n$ has to be the first entry in the doubly linked list in which the key is located; key number $n-1$ is either the first or the second entry in the doubly linked list in which the key is located. So if we're searching for key number $i$, search the first $i$ entries of each doubly linked list.  Hence we have,\n",
    "\n",
    "$$\n",
    "\\mathbb{E} (T | K = i ) = \\sum_{j = 1}^{m} O((n - (i - 1) j) P (\\text{key i gets searched in j steps}) = O \\bigg ( (n - (i - 1) \\sum_{j = 1}^{m} \\frac{j}{m} \\bigg ) = O \\bigg ( \\frac{(n - (i - 1) m(m+1)}{2m} \\bigg ) = O \\bigg ( \\frac{((n - (i - 1))(m+1)}{2} \\bigg ).\n",
    "$$\n",
    "\n",
    "Hence, we have,\n",
    "\n",
    "$$\n",
    "\\mathbb{E}(T) = \\frac{1}{n} \\sum_{i = 1}^{n} \\mathbb{E} (T | K = i ) = O \\bigg ( \\frac{(m+1)}{2n} \\sum_{i = 1}^{n} n - (i - 1) \\bigg ) = O \\bigg ( \\frac{(m+1)}{2n} \\sum_{i = 1}^{n} k \\bigg ) = O \\bigg ( \\frac{(m+1)(n+1)}{4n} \\bigg ) = O (1 + 1/n) ( 1 + 1/\\alpha) = O (L ( 1 + 1/\\alpha)).\n",
    "$$\n",
    "\n",
    "To make this argument work, note that we need to know both the key and the *index* of the the key being searched. So this algorithm works if we implement it such that the input is the the index from 1 to $n$ of the the key we're trying to fetch and the key itself from the list of values inputted in the hash table. For example, we could have $n = 100$ and $x_{27} = 13091$; so to fetch $13091$ from the list, we'd input the index $27$th and the key $13091$. So we'd have to keep a running list of the keys and the indicies to make this argument work. We can do this by implementing a list in Python from which should take $O(1)$ time to retrieve from memory the key being searched and the corresponding index."
   ]
  },
  {
   "cell_type": "markdown",
   "metadata": {},
   "source": []
  }
 ],
 "metadata": {
  "kernelspec": {
   "display_name": "Python 3",
   "language": "python",
   "name": "python3"
  },
  "language_info": {
   "codemirror_mode": {
    "name": "ipython",
    "version": 3
   },
   "file_extension": ".py",
   "mimetype": "text/x-python",
   "name": "python",
   "nbconvert_exporter": "python",
   "pygments_lexer": "ipython3",
   "version": "3.7.6"
  }
 },
 "nbformat": 4,
 "nbformat_minor": 4
}
