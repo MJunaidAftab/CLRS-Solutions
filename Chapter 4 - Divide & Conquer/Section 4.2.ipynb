{
 "cells": [
  {
   "cell_type": "code",
   "execution_count": 2,
   "metadata": {},
   "outputs": [],
   "source": [
    "import math\n",
    "import numpy as np"
   ]
  },
  {
   "cell_type": "code",
   "execution_count": 3,
   "metadata": {},
   "outputs": [],
   "source": [
    "def Square_Multiply_Recursive(A,B,n):\n",
    "    \n",
    "    #A,B are assumed to be two n*n matrices.\n",
    "    #Also assume that n is a power of 2.\n",
    "    \n",
    "    C = np.zeros((n,n))\n",
    "    \n",
    "    if n == 1:\n",
    "        \n",
    "        C[:1,:1] = A[:1,:1]*B[:1,:1]\n",
    "        \n",
    "        return C\n",
    "        \n",
    "    else:\n",
    "        \n",
    "        m = int(n/2)\n",
    "        \n",
    "        #We must slice from the index 0. The last index doesn't get subtracted by 1.\n",
    "        \n",
    "        \n",
    "        A_11 = A[:m,:m]\n",
    "        B_11 = B[:m,:m]\n",
    "        \n",
    "        A_12 = A[:m,m:n]\n",
    "        B_12 = B[:m,m:n]\n",
    "        \n",
    "        A_21 = A[m:n,:m]\n",
    "        B_21 = B[m:n,:m]\n",
    "        \n",
    "        A_22 = A[m:n,m:n]\n",
    "        B_22 = B[m:n,m:n]\n",
    "        \n",
    "        \n",
    "        C[:m,:m] = Square_Multiply_Recursive(A_11,B_11,m) + Square_Multiply_Recursive(A_12,B_21,m) \n",
    "        \n",
    "        C[:m,m:n] = Square_Multiply_Recursive(A_11,B_12,m) + Square_Multiply_Recursive(A_12,B_22,m)\n",
    "        \n",
    "        C[m:n,:m] = Square_Multiply_Recursive(A_21,B_11,m) + Square_Multiply_Recursive(A_22,B_21,m)\n",
    "        \n",
    "        C[m:n,m:n] = Square_Multiply_Recursive(A_21,B_12,m) + Square_Multiply_Recursive(A_22,B_22,m)\n",
    "        \n",
    "        return C      "
   ]
  },
  {
   "cell_type": "code",
   "execution_count": 4,
   "metadata": {},
   "outputs": [
    {
     "name": "stdout",
     "output_type": "stream",
     "text": [
      "[[18. 14.]\n",
      " [62. 66.]]\n"
     ]
    }
   ],
   "source": [
    "n = 2\n",
    "A = np.array([[1, 3], [7, 5]])\n",
    "B = np.array([[6, 8], [4, 2]])\n",
    "C = Square_Multiply_Recursive(A,B,n)\n",
    "print(C)"
   ]
  },
  {
   "cell_type": "markdown",
   "metadata": {},
   "source": [
    "The recursion relation describing this algorithm is given by:\n",
    "\n",
    "$$\n",
    "T(n) = 8T(n/2) + \\Theta ( n^2 ).\n",
    "$$\n",
    "\n",
    "By the master method the solution is $ \\Theta ( n^2 ) $."
   ]
  },
  {
   "cell_type": "code",
   "execution_count": 8,
   "metadata": {},
   "outputs": [],
   "source": [
    "def Strassens_Algorithm(A,B,n):\n",
    "    \n",
    "    #A,B are assumed to be two n*n matrices.\n",
    "    #Also assume that n is a power of 2.\n",
    "    \n",
    "    C = np.zeros((n,n))\n",
    "    \n",
    "    if n == 1:\n",
    "        \n",
    "        C[:1,:1] = A[:1,:1]*B[:1,:1]\n",
    "        \n",
    "        return C\n",
    "        \n",
    "    else:\n",
    "        \n",
    "        m = int(n/2)\n",
    "        \n",
    "        #We must slice from the index 0. The last index doesn't get subtracted by 1.\n",
    "        \n",
    "        A_11 = A[:m,:m]\n",
    "        B_11 = B[:m,:m]\n",
    "        \n",
    "        A_12 = A[:m,m:n]\n",
    "        B_12 = B[:m,m:n]\n",
    "        \n",
    "        A_21 = A[m:n,:]\n",
    "        B_21 = B[m:n,:m]\n",
    "        \n",
    "        A_22 = A[m:n,m:n]\n",
    "        B_22 = B[m:n,m:n]\n",
    "        \n",
    "        S_1 = B_12 - B_22\n",
    "        S_2 = A_11 + A_12\n",
    "        S_3 = A_21 + A_22\n",
    "        S_4 = B_21 - B_11\n",
    "        S_5 = A_11 + A_22\n",
    "        S_6 = B_11 + B_22\n",
    "        S_7 = A_12 - A_22\n",
    "        S_8 = B_21 + B_22\n",
    "        S_9 = A_11 - A_21\n",
    "        S_10 = B_11 + B_12\n",
    "        \n",
    "        #We recursively multiply matrices now\n",
    "        \n",
    "        P_1 = Strassens_Algorithm(A_11,S_1,m)\n",
    "        P_2 = Strassens_Algorithm(S_2,B_22,m)\n",
    "        P_3 = Strassens_Algorithm(S_3,B_11,m)\n",
    "        P_4 = Strassens_Algorithm(A_22,S_4,m)\n",
    "        P_5 = Strassens_Algorithm(S_5,S_6,m)\n",
    "        P_6 = Strassens_Algorithm(S_7,S_8,m)\n",
    "        P_7 = Strassens_Algorithm(S_9,S_10,m)\n",
    "        \n",
    "        C[0:m,0:m] = P_5 + P_4 - P_2 + P_6 \n",
    "        \n",
    "        C[0:m,m:n] = P_1 + P_2\n",
    "        \n",
    "        C[m:n,0:m] = P_3 + P_4\n",
    "        \n",
    "        C[m:n,m:n] = P_5 + P_1 - P_3 - P_7\n",
    "        \n",
    "        return C        "
   ]
  },
  {
   "cell_type": "code",
   "execution_count": 9,
   "metadata": {},
   "outputs": [
    {
     "name": "stdout",
     "output_type": "stream",
     "text": [
      "[[18. 14.]\n",
      " [62. 66.]]\n"
     ]
    }
   ],
   "source": [
    "n = 2\n",
    "A = np.array([[1, 3], [7, 5]])\n",
    "B = np.array([[6, 8], [4, 2]])\n",
    "C = Strassens_Algorithm(A,B,n)\n",
    "print(C)"
   ]
  },
  {
   "cell_type": "markdown",
   "metadata": {},
   "source": [
    "The recursion relation describing this algorithm is given by:\n",
    "\n",
    "$$\n",
    "T(n) = 7T(n/2) + \\Theta ( n^2 ).\n",
    "$$\n",
    "\n",
    "By the master method the solution is $ \\Theta ( n^{\\lg 7} ) $."
   ]
  },
  {
   "cell_type": "markdown",
   "metadata": {},
   "source": [
    "### 4.2.3\n",
    "\n",
    "Just add rows and columns of zeros to ensure both the row and the column numbers are the same multiple of 2.\n",
    "\n",
    "### 4.2.4\n",
    "\n",
    "Assume thet $n$ is a power of 3. In this case, we have that the recurrence relation is given by,\n",
    "\n",
    "$$\n",
    "T(n) = kT(n/3) + \\Theta ( n^2 ).\n",
    "$$\n",
    "\n",
    "By the Master Theorem, the largest value of $k$ would be 21.\n",
    "\n",
    "### 4.2.5\n",
    "\n",
    "If we follow V. Pan's method of multiplying $68$ by $68$ matrices then, assuming that $n$ is a power of 68, the recurrence relation will be,\n",
    "\n",
    "$$\n",
    "T(n) = 132,464T(n/68) + \\Theta ( n^2 ).\n",
    "$$\n",
    "\n",
    "Since $\\log_{68} 132,464 \\sim 2.79512$, by the Master Theorem, the solution to this recurrence relation is $\\Theta ( n^{\\log_{68} 132,464} ) \\sim \\Theta ( n^{2.79512} )$.\n",
    "\n",
    "If we follow V. Pan's method of multiplying $70$ by $70$ matrices then, assuming that $n$ is a power of 70, the recurrence relation will be,\n",
    "\n",
    "$$\n",
    "T(n) = 143,640T(n/70) + \\Theta ( n^2 ).\n",
    "$$\n",
    "\n",
    "Since $\\log_{70} 143,640 \\sim 2.79312$, by the Master Theorem, the solution to this recurrence relation is $\\Theta ( n^{\\log_{70} 143,640} ) \\sim \\Theta ( n^{2.79312} )$.\n",
    "\n",
    "If we follow V. Pan's method of multiplying $72$ by $72$ matrices then, assuming that $n$ is a power of 72, the recurrence relation will be,\n",
    "\n",
    "$$\n",
    "T(n) = 155,424T(n/72) + \\Theta ( n^2 ).\n",
    "$$\n",
    "\n",
    "Since $\\log_{72} 155,424 \\sim 2.79514$, by the Master Theorem, the solution to this recurrence relation is $\\Theta ( n^{\\log_{70} 143,640} ) \\sim \\Theta ( n^{2.79514} )$.\n",
    "\n",
    "Now Strassen's algorithm's time complexity is $\\Theta ( n^{\\lg 7} ) \\sim \\Theta ( n^{2.80735} )$. Hence all of the alternative algorithms outperform Strassen's algorithm asymptotically, and the fastest algorthm is given when $n$ is assumed to be a power of $72$.\n",
    "\n",
    "## 4.2.6\n",
    "\n",
    "In the first case, note that we can employ Strassen's algorithm to the matrices by partioning the $kn$ rows and columns of the first and second matrices respectively into $k$ rows and columns, and we can then proceed and use Strassen's Algorithm to multiply the corresponding submatrices. There will $k^2$ multiplications perfomed by Strassen's algorithm. Hence the time complexity of the algorithm is $k \\Theta ( n^{\\lg 7} ) = \\Theta ( n^{\\lg 7} ) $.\n",
    "\n",
    "In the second case, we will have to perform both matrix multiplications and matrix additions. After partitioning the matrices appropriately, we will end up perfoming $k$ matrix multiplications, yielding us $k$ matrices of dimension $n \\times n$. We then add these matrices to give us the desired $n \\times n$ matrix; in general, we will have to perfom $kn^2$ additions, which are no more than the number of additions that are performed as part of Strassen's algorithm.\n",
    "\n",
    "### 4.2.7\n",
    "\n",
    "Let,\n",
    "\n",
    "$$\n",
    "A = (a + b)(c - d) = (ac - bd) + (bc - ad), \\quad \\quad B = bc, \\quad \\quad C = ad.\n",
    "$$\n",
    "\n",
    "We get that $ac - bd = A - B + C$ and $ad + bc = C + B$. This is in spirit of Strassen's algorithm as we have cut down on the numbe rof multiplications by 1."
   ]
  },
  {
   "cell_type": "code",
   "execution_count": null,
   "metadata": {},
   "outputs": [],
   "source": []
  }
 ],
 "metadata": {
  "kernelspec": {
   "display_name": "Python 3",
   "language": "python",
   "name": "python3"
  },
  "language_info": {
   "codemirror_mode": {
    "name": "ipython",
    "version": 3
   },
   "file_extension": ".py",
   "mimetype": "text/x-python",
   "name": "python",
   "nbconvert_exporter": "python",
   "pygments_lexer": "ipython3",
   "version": "3.7.6"
  }
 },
 "nbformat": 4,
 "nbformat_minor": 4
}
