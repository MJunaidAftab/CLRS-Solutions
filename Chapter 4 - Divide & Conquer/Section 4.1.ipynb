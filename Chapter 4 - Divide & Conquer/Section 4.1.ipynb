{
 "cells": [
  {
   "cell_type": "code",
   "execution_count": 57,
   "metadata": {},
   "outputs": [],
   "source": [
    "def Find_Max_Crossing_Subarray(A,low,mid,high):\n",
    "    #We find a maximum subarray that crossed the midpoint.\n",
    "    \n",
    "    #The idea is to find a maximum subarrays of the forms A[i,...,mid] and A[mid,...,j].\n",
    "    #We then combine these two subarrays to give us the desired answer.\n",
    "    \n",
    "    n = high - low + 1\n",
    "        \n",
    "    if n == 2:\n",
    "        \n",
    "        return low, high, A[low] + A[high]\n",
    "    \n",
    "    \n",
    "    else:    \n",
    "    \n",
    "        large_left_sum = -9999999999999999999\n",
    "        left_sum = 0\n",
    "    \n",
    "        for i in range(mid,low-1,-1):\n",
    "        \n",
    "            left_sum = left_sum + A[i]    \n",
    "            if left_sum > large_left_sum:\n",
    "            \n",
    "                left_index = i\n",
    "                large_left_sum = left_sum\n",
    "            \n",
    "        large_right_sum = -9999999999999999999\n",
    "        right_sum = 0\n",
    "    \n",
    "        for j in range(mid,high+1):\n",
    "        \n",
    "            right_sum = right_sum + A[j]    \n",
    "            if right_sum > large_right_sum:\n",
    "            \n",
    "                right_index = j\n",
    "                large_right_sum = right_sum \n",
    "            \n",
    "        aggregate_sum = right_sum + left_sum - A[mid]\n",
    "    \n",
    "        return left_index, right_index, aggregate_sum"
   ]
  },
  {
   "cell_type": "code",
   "execution_count": 58,
   "metadata": {},
   "outputs": [],
   "source": [
    "#We now implement a Divide and Conquer approach to the maximum continguous subarray problem\n",
    "\n",
    "import math\n",
    "\n",
    "def Find_Maximum_Subarray(A,low,high):\n",
    "    \n",
    "    n = high - low + 1\n",
    "    \n",
    "    if n == 1:\n",
    "        \n",
    "        return low, high, A[low]\n",
    "    \n",
    "    else:\n",
    "        \n",
    "        middle = math.floor((low+high)/2)\n",
    "        left_low, left_high, left_sum =  Find_Maximum_Subarray(A,low,middle)\n",
    "        right_low, right_high, right_sum = Find_Maximum_Subarray(A,middle+1,high)\n",
    "        \n",
    "        #We now find a maximum subarray that crosses through the middle point\n",
    "        \n",
    "        cross_low, cross_high, cross_sum = Find_Max_Crossing_Subarray(A,low,middle,high)\n",
    "            \n",
    "        #We now compare the three sums and pick the output corresponding to the largest output!\n",
    "        \n",
    "        if right_sum >= left_sum & right_sum >= cross_sum:\n",
    "            return right_low, right_high, right_sum\n",
    "        \n",
    "        elif left_sum >= right_sum & left_sum >= cross_sum:\n",
    "            return left_low, left_high, left_sum\n",
    "        \n",
    "        else:\n",
    "            return cross_low, cross_high, cross_sum"
   ]
  },
  {
   "cell_type": "code",
   "execution_count": 60,
   "metadata": {},
   "outputs": [
    {
     "name": "stdout",
     "output_type": "stream",
     "text": [
      "2\n",
      "2\n",
      "4\n"
     ]
    }
   ],
   "source": [
    "A = [1,-4,4,-4]\n",
    "l,h,s = Find_Maximum_Subarray(A,0,3)\n",
    "print(l)\n",
    "print(h)\n",
    "print(s)"
   ]
  },
  {
   "cell_type": "markdown",
   "metadata": {},
   "source": [
    "The recurrence relation for this algorithm is given by,\n",
    "\n",
    "$$\n",
    "T(n) = 2T(n/2) + \\Theta(n).\n",
    "$$\n",
    "\n",
    "By the Master Theorem, the solution is $\\Theta ( n \\lg n ) $."
   ]
  },
  {
   "cell_type": "markdown",
   "metadata": {},
   "source": [
    "### 4.1.1\n",
    "\n",
    "In this case, the best strategy is to simply pick the largest element (buy and sell on the same day), and this is exactly what the algorithm does for us.\n",
    "\n",
    "### 4.1.2"
   ]
  },
  {
   "cell_type": "code",
   "execution_count": 62,
   "metadata": {},
   "outputs": [],
   "source": [
    "def Find_Maximum_Subarray_Brute_Force(A,low,high):\n",
    "    \n",
    "    large_sum = -999999999999999999999\n",
    "    \n",
    "    for i in range(low,high):\n",
    "        \n",
    "        temp_sum = 0\n",
    "        \n",
    "        for j in range(i+1,high):\n",
    "            \n",
    "            temp_sum = temp_sum + A[j]  \n",
    "            \n",
    "            if temp_sum > large_sum:\n",
    "                \n",
    "                low_index = i\n",
    "                high_index = j\n",
    "                large_sum = temp_sum\n",
    "                \n",
    "    return low_index, high_index, temp_sum      "
   ]
  },
  {
   "cell_type": "code",
   "execution_count": 63,
   "metadata": {},
   "outputs": [
    {
     "name": "stdout",
     "output_type": "stream",
     "text": [
      "2\n",
      "2\n",
      "4\n"
     ]
    }
   ],
   "source": [
    "A = [1,-4,4,-4]\n",
    "l,h,s = Find_Maximum_Subarray(A,0,3)\n",
    "print(l)\n",
    "print(h)\n",
    "print(s)"
   ]
  },
  {
   "cell_type": "markdown",
   "metadata": {},
   "source": [
    "### 4.1.4\n",
    "\n",
    "The answer depends on the case(s) in which we would like to return an empty subarray. For example, we may want to return an empty subarray if the optimal sum is negative. So in this case put an if condition which works when the original algorithm returns a negative sum, and we end up returning an empty subarray instead."
   ]
  },
  {
   "cell_type": "markdown",
   "metadata": {},
   "source": [
    "### 4.1.5\n",
    "\n",
    "Dynamic programming...later"
   ]
  }
 ],
 "metadata": {
  "kernelspec": {
   "display_name": "Python 3",
   "language": "python",
   "name": "python3"
  },
  "language_info": {
   "codemirror_mode": {
    "name": "ipython",
    "version": 3
   },
   "file_extension": ".py",
   "mimetype": "text/x-python",
   "name": "python",
   "nbconvert_exporter": "python",
   "pygments_lexer": "ipython3",
   "version": "3.7.6"
  }
 },
 "nbformat": 4,
 "nbformat_minor": 4
}
