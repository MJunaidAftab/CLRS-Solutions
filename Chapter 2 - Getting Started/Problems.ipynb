{
 "cells": [
  {
   "cell_type": "markdown",
   "metadata": {},
   "source": [
    "## 2-1\n",
    "\n",
    "a and b. Insertion sort sorts $n/k$  lists of length $k$. For insertion sort, if the length of the list is $m$, the time complexity of the algorithm is $\\Theta (m^2)$. Hence each list is sorted in $\\Theta (k^2)$ time. Since there are a total of $n/k$ lists, the time complexity of the algorithm is $n/k \\; \\Theta (k^2) = \\Theta (n/k)$.\n",
    "\n",
    "For simplicity, assume that $n/k$ is a power of 2. So we have $n/k$ sublists, each of length $k$. First split the array of $n$ elements into $n/k$ arrays each of length $k$. We now compute $D(n)$, the cost of making this division. This should be $\\Theta (1)$. We now compute $C(n)$ the cost of merging the solutions of the sub-divided problems. This amounts to merging using the standard mechanism to merge 2 sublists at a time. <font color='red'>This is where it gets tricky.</font> Collate the $n/k$ sublists into a single list. This should take $\\Theta (1)$ time. Now divide this list till you end up with a 2 lists each. Now recursively merge these lists till you get back to the top. This is modelled by the recurrence relation $S(x) = S(x/2) + \\Theta(n)$, where $x = n/k$, the number of lists. <font color='red'>Note that at each step we do a TOTAL of n comparison for the different number of merges that need to be done at each level!</font>\n",
    "\n",
    "The recurrence relation is given by \n",
    "\n",
    "$$\n",
    "T(n) = \\underbrace{T(k) + ... + T(k)}_{\\text{$n/k$ times}} + S(n/k).\n",
    "$$\n",
    "\n",
    "The solution, by repeated iteration is,\n",
    "\n",
    "$$\n",
    "\\begin{align}\n",
    "T(n) & = \\underbrace{T(k) + ... + T(k)}_{\\text{$n/k$ times}} + S(n/k), \\\\\n",
    "     & = n/k \\Theta (k^2) + S(n/k), \\\\\n",
    "     & = \\Theta (nk) + S(n/k), \\\\\n",
    "     & = \\Theta (nk) + S(n/2k) + \\Theta(n), \\\\\n",
    "     & = \\Theta (nk) + S(n/4k) + \\Theta (n), \\\\\n",
    "     & = \\Theta (nk) + \\underbrace{\\Theta(n) + ... + \\Theta(n)}_{\\text{$\\lg(n/k)$ times}}, \\\\\n",
    "     & = \\Theta (nk) + \\Theta(n\\lg(n/k)), \\\\\n",
    "     & = \\Theta (nk + n\\lg(n/k)).\n",
    "\\end{align}\n",
    "$$\n",
    "\n",
    "\n",
    "\n",
    "c. Standard merge sort runs in $\\Theta (n \\lg n)$ time. To have the modified algorithm have the same running time as standard merge sort, we'd need to have $\\Theta (n \\lg n) = \\Theta (n\\lg(n/k))$, which is equivalent to the condition,\n",
    "\n",
    "$$\n",
    "\\lim_{n \\rightarrow \\infty} \\frac{nk(n) + n\\lg(n/k(n))}{n \\lg n} = \\lim_{n \\rightarrow \\infty} \\frac{k(n) + \\lg(n/k(n))}{\\lg n} \n",
    "= \\lim_{n \\rightarrow \\infty} \\frac{k(n) + \\lg n - \\lg k(n)}{\\lg n} = \\lim_{n \\rightarrow \\infty} 1 + \\frac{k(n)}{\\lg n}  - \\frac{\\lg k(n)}{\\lg n},\n",
    "$$\n",
    "\n",
    "to be finite and neither $0$ nor $+ \\infty$. A sufficient condition is that $k(n) = \\Theta ( \\lg n)$ or $o(\\lg n)$ for that matter."
   ]
  },
  {
   "cell_type": "markdown",
   "metadata": {},
   "source": [
    "## 2-2"
   ]
  },
  {
   "cell_type": "code",
   "execution_count": 3,
   "metadata": {},
   "outputs": [
    {
     "name": "stdout",
     "output_type": "stream",
     "text": [
      "[1, 3, 7, 8, 15, 15, 44, 69, 78, 5777]\n"
     ]
    }
   ],
   "source": [
    "def Bubble_Sort(A):\n",
    "    n = len(A)\n",
    "    for i in range(0,n-1):\n",
    "        for j in range(n-1,i,-1):\n",
    "            if A[j] < A[j-1]:\n",
    "                A[j], A[j-1] = A[j-1], A[j]\n",
    "                \n",
    "    return A \n",
    "\n",
    "A = [1,8,3,5777,7,15, 44,69,78,15]\n",
    "print(Bubble_Sort(A))"
   ]
  },
  {
   "cell_type": "markdown",
   "metadata": {},
   "source": [
    "The loop invaraint is:\n",
    "\n",
    "At the start of each of the round of the outer iteration, the subarray $A[i,...,n]$ consists of the elements originally in  $A[i,...,n]$ before entering the loop but possibly in a different order. Additionally, $A[1,...,i-1]$ is correctly sorted with the largest element in ths list being the smallest element from the list  $A[i,...,n]$ obtained from the PREVIOUS iteration.\n",
    "\n",
    "The time complexity of this algorithm is given by the expression (here we use the pseudocode written in the book),\n",
    "\n",
    "$$\n",
    "T(n) = \\Theta \\Bigg (  \\sum_{i = 1}^{n-1} \\sum_{j = i + 1}^{n} t_{ij} \\Bigg ) = \\Theta \\Bigg (  \\sum_{i = 1}^{n-1} \\sum_{j = i + 1}^{n} t_{ij} \\Bigg ),\n",
    "$$\n",
    "\n",
    "where $t_{ij}$ is either $0$ or $1$ depeding on whether the if statement is executed. We analyze the worst case running time of the algorithm. We get.\n",
    "\n",
    "$$\n",
    "\\begin{align}\n",
    "T(n) & = O \\Bigg ( \\sum_{i = 1}^{n-1} \\sum_{j = i + 1}^{n} 1 \\Bigg ), \\\\\n",
    "     & = O \\Bigg ( \\sum_{i = 1}^{n-1} n - i \\Bigg ), \\\\\n",
    "     & = O \\Bigg ( \\sum_{k = 1}^{n-1} k \\Bigg ), \\\\\n",
    "     & = O \\Bigg ( \\sum_{k = 1}^{n - 1} k \\Bigg ), \\\\\n",
    "     & = O ( n^2 ).\n",
    "\\end{align}\n",
    "$$"
   ]
  },
  {
   "cell_type": "markdown",
   "metadata": {},
   "source": [
    "## 2-3"
   ]
  },
  {
   "cell_type": "code",
   "execution_count": 12,
   "metadata": {},
   "outputs": [],
   "source": [
    "def Horners_Rule(A):\n",
    "    #A contains the list of coefficients\n",
    "    y = 0\n",
    "    for i in range(n,-1,-1):\n",
    "        y = A[i] + x*y"
   ]
  },
  {
   "cell_type": "markdown",
   "metadata": {},
   "source": [
    "The running time is $\\Theta (n)$."
   ]
  },
  {
   "cell_type": "code",
   "execution_count": 14,
   "metadata": {},
   "outputs": [],
   "source": [
    "def Naive_Horner(A):\n",
    "    y = 0\n",
    "    for i in range(0,n+1):\n",
    "        z = A[i]\n",
    "        for j in range(0,i):\n",
    "            z = z*x\n",
    "        y = y + z"
   ]
  },
  {
   "cell_type": "markdown",
   "metadata": {},
   "source": [
    "The running time of the algorithm is $\\Theta(n^2)$. We skip the verification of this algirthim."
   ]
  },
  {
   "cell_type": "markdown",
   "metadata": {},
   "source": [
    "## 2-4\n",
    "\n",
    "a. The inversions are (1, 5), (2, 5), (3, 4), (3,5), (4,5).\n",
    "\n",
    "b. The array $[n, n-1, n-2, ... , 3, 2, 1]$ has the most inversions. It has a total of $n(n-1)/2$ inversions.\n",
    "\n",
    "c. The running time of insertion sort is of the order of magnitude (read: big theta) of the number of inversions in the input array. The reason is that the time complexity of insertion sort is determined by i) the number of items in the list and ii) the number of adjacent inverted elements in one of the multiple subarrays we consider while placing each element in its right place in the list. But that's what exactly measures the number of inversions in an array. Hence, we expect to be $\\Theta$ of each other.\n",
    "\n",
    "d. <font color='red'>Given the relationship found in c, we can find the number of permutations in an efficient way by recalling that we improve on the insertion sort algortihm using merge sort.</font>"
   ]
  },
  {
   "cell_type": "code",
   "execution_count": 2,
   "metadata": {},
   "outputs": [],
   "source": [
    "def Merge_Number_Of_Inversions(A,p,q,r,Inversions_Left,Inversions_Right):\n",
    "    n1 = q - p + 1\n",
    "    n2 = r - q\n",
    "    \n",
    "    Inv_L = Inversions_Left\n",
    "    Inv_R = Inversions_Right\n",
    "    \n",
    "    Inversions = Inv_L + Inv_R\n",
    "    \n",
    "    #We first populate two lists that contain the subsequences A[p,...,q] and A[q+1,...,r] for which we have\n",
    "    #computed the number of inversions AND SORTED\n",
    "    \n",
    "    L = []\n",
    "    R = []\n",
    "    \n",
    "    for index in range(n1):\n",
    "        L.append(A[index + p])\n",
    "        \n",
    "    for index in range(n2):\n",
    "        R.append(A[index + q + 1])\n",
    "    \n",
    "    #We now compute the number of inversions by taking pairs of indicies such that elements with the first \n",
    "    #index come from the first (L) list and elements from the second list come from the second (R) list.\n",
    "    \n",
    "    #!!!!! \n",
    "    #Instead of iterating over the both the lists which would give us a quadratic time complexity, we instead\n",
    "    #use the scheme used to write the merge routine of the MERGE-SORT algorithm. We'll merge these lists into our\n",
    "    #original list, A, and compute inversions as we go along.\n",
    "    \n",
    "    ### Consider the example of two lists with zero inversions Take the lists to be\n",
    "    \n",
    "    # 6 7 8 9 10 ... 1 2 3 4 5\n",
    "    # When we run merge sort, we first compare 6 and 1 and put 1 in the right place. But note 6 > 1 so we \n",
    "    # increment the variable inversions by 1. But note 6 is less than all other variables in the first list \n",
    "    # so instead we increment by 5 (n1). More generally:\n",
    "    \n",
    "    # if the length of the first list is n1, and we have found an inverted element at index i (i = 0, ... , n1) \n",
    "    # in the first list, increment the inversion number by n1 - i.\n",
    "    \n",
    "    # After putting 1 in place, we compare 6 with 2, 3, 4 and 5 and increment\n",
    "    #inversions by 5, 5, 5, 5. This procedure is captured by the description above which is iterative in\n",
    "    #description.\n",
    "    \n",
    "    # 1 2 3 4 5 _ _ _ _ _\n",
    "    \n",
    "    #We now simply overwrite the the first and NO additional inversions need to be accounted for. More generally,\n",
    "    \n",
    "    #When one sublist has been exhausted, we need not update the inversion number anymore.\n",
    "    \n",
    "    # Consider the example:\n",
    "    # 5 7 8 9 10 ... 1 2 3 4 6\n",
    "    \n",
    "    # We now 5 have > 1, 2, 3, 4, so we make the first four entries of A to be 1, 2, 3, 4 resp. and increase inversions by\n",
    "    # 5, 5, 5, 5 (n1). \n",
    "    \n",
    "    #BUT NOW NOTE: we have 5 < 6. We update the list A to partially look like 1, 2, 3, 4, 5 and DON't increase\n",
    "    #the inversion number at all. More generally:\n",
    "    \n",
    "    #if $L[i] < L[j]$ we don't increase the inversion number.\n",
    "       \n",
    "    \n",
    "    i = 0\n",
    "    j = 0\n",
    "    \n",
    "    for k in range(p,r+1):\n",
    "        \n",
    "        if i > n1-1:\n",
    "            A[k] = R[j]\n",
    "            j = j + 1\n",
    "        \n",
    "        elif j > n2-1:\n",
    "            A[k] = L[i]\n",
    "            i = i + 1\n",
    "            \n",
    "        elif L[i] > R[j]:\n",
    "            A[k] = R[j]\n",
    "            j = j + 1\n",
    "            Inversions = Inversions + (n1 - i)\n",
    "            \n",
    "        else:\n",
    "            A[k] = L[i]\n",
    "            i = i + 1             \n",
    "    \n",
    "    return Inversions"
   ]
  },
  {
   "cell_type": "code",
   "execution_count": 45,
   "metadata": {},
   "outputs": [],
   "source": [
    "#We now implement the MERGE-INVERSIONS algorithm.\n",
    "\n",
    "import math\n",
    "\n",
    "def Merge_Inversions(A,p,r):\n",
    "\n",
    "    n = r - p + 1 #n is greater than or equal to 1\n",
    "    Inversions = 0\n",
    "    \n",
    "    if n == 1:\n",
    "        \n",
    "        Inversions = 0\n",
    "        \n",
    "        return Inversions\n",
    "    \n",
    "    if n == 2:\n",
    "        \n",
    "        if A[p] > A[p+1]:\n",
    "            \n",
    "            Inversions = 1\n",
    "            A[p], A[p+1] = A[p+1], A[p]\n",
    "            \n",
    "            return Inversions\n",
    "        \n",
    "        else:\n",
    "            \n",
    "            Inversions = 0\n",
    "        \n",
    "            return Inversions\n",
    "        \n",
    "    else:\n",
    "    \n",
    "        q = math.floor((p+r)/2)\n",
    "        Inversions_Left = Merge_Inversions(A,p,q)\n",
    "        Inversions_Right = Merge_Inversions(A,q+1,r)\n",
    "        Temp_Inversions = Merge_Number_Of_Inverstions(A,p,q,r,Inversions_Left,Inversions_Right)\n",
    "    \n",
    "        Inversions = Inversions + Temp_Inversions\n",
    "    \n",
    "        return Inversions"
   ]
  },
  {
   "cell_type": "code",
   "execution_count": 50,
   "metadata": {},
   "outputs": [
    {
     "name": "stdout",
     "output_type": "stream",
     "text": [
      "6\n"
     ]
    }
   ],
   "source": [
    "A = [4,7,5,1,10,6,17]\n",
    "n = len(A)\n",
    "print(Merge_Inversions(A,0,n-1))"
   ]
  },
  {
   "cell_type": "markdown",
   "metadata": {},
   "source": [
    "We only added a constant time operation, so we're good. The run time complexity is still $ \\ ( \\Theta n \\lg n )$."
   ]
  }
 ],
 "metadata": {
  "kernelspec": {
   "display_name": "Python 3",
   "language": "python",
   "name": "python3"
  },
  "language_info": {
   "codemirror_mode": {
    "name": "ipython",
    "version": 3
   },
   "file_extension": ".py",
   "mimetype": "text/x-python",
   "name": "python",
   "nbconvert_exporter": "python",
   "pygments_lexer": "ipython3",
   "version": "3.7.6"
  }
 },
 "nbformat": 4,
 "nbformat_minor": 2
}
