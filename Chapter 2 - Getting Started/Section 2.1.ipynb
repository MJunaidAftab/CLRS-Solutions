{
 "cells": [
  {
   "cell_type": "markdown",
   "metadata": {},
   "source": [
    "We present partial solutions to problems in the textbook. Most of the time, we write pseudocode to solve a given algorithmic problem."
   ]
  },
  {
   "cell_type": "markdown",
   "metadata": {},
   "source": [
    "## 2.1.1 & 2.1.2"
   ]
  },
  {
   "cell_type": "code",
   "execution_count": 25,
   "metadata": {},
   "outputs": [],
   "source": [
    "def Insertion_Sort_Decreasing(A):\n",
    "    \n",
    "    length_array = len(A)\n",
    "    \n",
    "    for j in range(1,length_array):\n",
    "        \n",
    "        key = A[j]\n",
    "        #We now insert A[j] into the correct place in the sequence\n",
    "        \n",
    "        i = j - 1\n",
    "        \n",
    "        #Simply change the < sign to the > sign to sort it in increasing order\n",
    "        while i>=0 and A[i] < key:\n",
    "            \n",
    "            A[i + 1] = A[i]\n",
    "            i = i - 1\n",
    "            print(A)\n",
    "            \n",
    "        A[i + 1] = key\n",
    "        print('Iteration number' + ' ' + str(j) + ' ' +  'has ended')\n",
    "        print('---------------------------------')\n",
    "    \n",
    "    sorted_array = A\n",
    "    return sorted_array"
   ]
  },
  {
   "cell_type": "code",
   "execution_count": 26,
   "metadata": {},
   "outputs": [
    {
     "name": "stdout",
     "output_type": "stream",
     "text": [
      "[31, 31, 59, 26, 41, 58]\n",
      "Iteration number 1 has ended\n",
      "---------------------------------\n",
      "[41, 31, 31, 26, 41, 58]\n",
      "[41, 41, 31, 26, 41, 58]\n",
      "Iteration number 2 has ended\n",
      "---------------------------------\n",
      "Iteration number 3 has ended\n",
      "---------------------------------\n",
      "[59, 41, 31, 26, 26, 58]\n",
      "[59, 41, 31, 31, 26, 58]\n",
      "Iteration number 4 has ended\n",
      "---------------------------------\n",
      "[59, 41, 41, 31, 26, 26]\n",
      "[59, 41, 41, 31, 31, 26]\n",
      "[59, 41, 41, 41, 31, 26]\n",
      "[59, 41, 41, 41, 31, 26]\n",
      "Iteration number 5 has ended\n",
      "---------------------------------\n",
      "[59, 58, 41, 41, 31, 26]\n"
     ]
    }
   ],
   "source": [
    "#Let's test the insertion sort algorthim \n",
    "\n",
    "A = [31,41,59,26,41,58]\n",
    "sorted_array =  Insertion_Sort_Decreasing(A)\n",
    "print(sorted_array)"
   ]
  },
  {
   "cell_type": "markdown",
   "metadata": {},
   "source": [
    "## 2.1.3"
   ]
  },
  {
   "cell_type": "code",
   "execution_count": 47,
   "metadata": {},
   "outputs": [],
   "source": [
    "def linear_search(A,v):\n",
    "    boolean = None\n",
    "    \n",
    "    for index in range(len(A)):\n",
    "        \n",
    "        if A[index] == v:\n",
    "            boolean = True\n",
    "            print('Entry number' + ' ' + str(index + 1) + ' ' + 'contains the desired element.' + \n",
    "                  'The index is listed below.')\n",
    "            return index\n",
    "    \n",
    "    boolean = False\n",
    "    print('The list does not contain the desired element.')\n",
    "    return boolean"
   ]
  },
  {
   "cell_type": "code",
   "execution_count": 49,
   "metadata": {},
   "outputs": [
    {
     "name": "stdout",
     "output_type": "stream",
     "text": [
      "The list does not contain the desired element.\n",
      "-----------------------------------------------------\n",
      "Entry numner 1 contains the desired element.The index is listed below.\n"
     ]
    },
    {
     "data": {
      "text/plain": [
       "0"
      ]
     },
     "execution_count": 49,
     "metadata": {},
     "output_type": "execute_result"
    }
   ],
   "source": [
    "#We test the linear search algorithm\n",
    "\n",
    "A = [31,41,59,26,41,58]\n",
    "\n",
    "linear_search(A,10)\n",
    "\n",
    "print('-----------------------------------------------------')\n",
    "\n",
    "linear_search(A,31)"
   ]
  },
  {
   "cell_type": "markdown",
   "metadata": {},
   "source": [
    "The loop invariant in this code is:\n",
    "\n",
    "At the start of each iteration of the for loop, the subbarray, $$A[0, ... , index - 1],$$ does not contain the desired element."
   ]
  },
  {
   "cell_type": "markdown",
   "metadata": {},
   "source": [
    "## 2.1.5"
   ]
  },
  {
   "cell_type": "code",
   "execution_count": 245,
   "metadata": {},
   "outputs": [],
   "source": [
    "#We define a function that computes the sum of two integers in binary form\n",
    "\n",
    "def binary_sum(a,b):\n",
    "    #Both integrs a and b are given in binary form. We implicitly assume that the lengths of the integers are\n",
    "    # also the same.\n",
    "    #We first convert b into integer form.\n",
    "    \n",
    "    n = len(a) #which is equal to len(b)\n",
    "    b_int = 0\n",
    "    \n",
    "    for index in range(n):\n",
    "        if int(b[index]) == 1:\n",
    "            b_int = b_int + 2**(n - index)\n",
    "    \n",
    "    #We now add a to b_int and make a new variable c.\n",
    "    #We iteratiively add the integer 1 to the binary a by looping over the length of a.\n",
    "    #The idea is that at each iteration, we replace the first zero entry from the left by\n",
    "    # a 1 and the other entries to the right of it (which are 1) by zero\n",
    "    \n",
    "    c = '0' + a\n",
    "    \n",
    "    #we firsr convert this string to a list\n",
    "    \n",
    "    temp_list = []\n",
    "    \n",
    "    for index in range(len(c)):\n",
    "        \n",
    "        temp_list.append(int(c[index]))\n",
    "    \n",
    "    for index in range(b_int):\n",
    "        \n",
    "        for i in range(len(temp_list)-1,-1,-1):\n",
    "            \n",
    "            if temp_list[i] == 0:\n",
    "                \n",
    "                temp_list[i] = 1\n",
    "                \n",
    "                if i != len(temp_list)-1:\n",
    "                \n",
    "                    for j in range(i + 1,len(temp_list),1):\n",
    "                    \n",
    "                        temp_list[j] = 0\n",
    "\n",
    "                break\n",
    "    \n",
    "    c_updated = ' '\n",
    "    \n",
    "    for index in range(len(temp_list)):\n",
    "        \n",
    "        c_updated = c_updated + str(temp_list[index]) \n",
    "    \n",
    "    return c_updated         "
   ]
  },
  {
   "cell_type": "code",
   "execution_count": 246,
   "metadata": {},
   "outputs": [
    {
     "name": "stdout",
     "output_type": "stream",
     "text": [
      " 100001\n"
     ]
    }
   ],
   "source": [
    "#we test the binary sum algorithm\n",
    "\n",
    "sum = binary_sum('11110','00001')\n",
    "print(sum)"
   ]
  },
  {
   "cell_type": "code",
   "execution_count": null,
   "metadata": {},
   "outputs": [],
   "source": []
  }
 ],
 "metadata": {
  "kernelspec": {
   "display_name": "Python 3",
   "language": "python",
   "name": "python3"
  },
  "language_info": {
   "codemirror_mode": {
    "name": "ipython",
    "version": 3
   },
   "file_extension": ".py",
   "mimetype": "text/x-python",
   "name": "python",
   "nbconvert_exporter": "python",
   "pygments_lexer": "ipython3",
   "version": "3.7.6"
  }
 },
 "nbformat": 4,
 "nbformat_minor": 2
}
