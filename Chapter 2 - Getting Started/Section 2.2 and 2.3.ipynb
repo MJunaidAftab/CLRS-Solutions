{
 "cells": [
  {
   "cell_type": "markdown",
   "metadata": {},
   "source": [
    "We present partial solutions to problems in the textbook. Most of the time, we write pseudocode to solve a given algorithmic problem."
   ]
  },
  {
   "cell_type": "markdown",
   "metadata": {},
   "source": [
    "# Section 2.2"
   ]
  },
  {
   "cell_type": "markdown",
   "metadata": {},
   "source": [
    "## 2.2.1\n",
    "\n",
    "$\\Theta ( n^3 ).$\n",
    "\n",
    "## 2.2.2"
   ]
  },
  {
   "cell_type": "code",
   "execution_count": 16,
   "metadata": {},
   "outputs": [],
   "source": [
    "#We implement the SELECTION SORT algorithm\n",
    "\n",
    "def Selection_Sort(A):\n",
    "    \n",
    "    n = len(A)\n",
    "    \n",
    "    for index in range(len(A)-1):\n",
    "        \n",
    "        counter = index\n",
    "        \n",
    "        for j in range(index + 1, len(A)):\n",
    "            \n",
    "            if A[j] < A[counter]:\n",
    "                \n",
    "                counter = j\n",
    "        \n",
    "        A[index], A[counter] = A[counter], A[index]\n",
    "        print(A)\n",
    "        print('-------------------------------------------')\n",
    "        \n",
    "    return A    "
   ]
  },
  {
   "cell_type": "code",
   "execution_count": 17,
   "metadata": {},
   "outputs": [
    {
     "name": "stdout",
     "output_type": "stream",
     "text": [
      "[5, 41, 10, 8, 99, 25, 31, 9, 44, 25]\n",
      "-------------------------------------------\n",
      "[5, 8, 10, 41, 99, 25, 31, 9, 44, 25]\n",
      "-------------------------------------------\n",
      "[5, 8, 9, 41, 99, 25, 31, 10, 44, 25]\n",
      "-------------------------------------------\n",
      "[5, 8, 9, 10, 99, 25, 31, 41, 44, 25]\n",
      "-------------------------------------------\n",
      "[5, 8, 9, 10, 25, 99, 31, 41, 44, 25]\n",
      "-------------------------------------------\n",
      "[5, 8, 9, 10, 25, 25, 31, 41, 44, 99]\n",
      "-------------------------------------------\n",
      "[5, 8, 9, 10, 25, 25, 31, 41, 44, 99]\n",
      "-------------------------------------------\n",
      "[5, 8, 9, 10, 25, 25, 31, 41, 44, 99]\n",
      "-------------------------------------------\n",
      "[5, 8, 9, 10, 25, 25, 31, 41, 44, 99]\n",
      "-------------------------------------------\n"
     ]
    }
   ],
   "source": [
    "#We illusrate the selection sort algorithm\n",
    "A = [31, 41, 10, 8, 99, 25, 5, 9, 44, 25]\n",
    "sorted_array = Selection_Sort(A)\n",
    "#print(sorted_array)"
   ]
  },
  {
   "cell_type": "markdown",
   "metadata": {},
   "source": [
    "For a discussion of the time complexity of the algorithm, see the Google Drive."
   ]
  },
  {
   "cell_type": "markdown",
   "metadata": {},
   "source": [
    "# Section 2.3"
   ]
  },
  {
   "cell_type": "markdown",
   "metadata": {},
   "source": [
    "## 2.3.2"
   ]
  },
  {
   "cell_type": "markdown",
   "metadata": {},
   "source": [
    "We first write the MERGE function which merges two sorted sequences. The functons takes as input an array, A, and three indicies, p,q and r, such that p is less than oe equal to q and q is less than r. The time complexity of this alogirthm is of order $\\Theta ( n  ),$ where $n = r - p + 1$."
   ]
  },
  {
   "cell_type": "code",
   "execution_count": 18,
   "metadata": {},
   "outputs": [],
   "source": [
    "def Merge(A,p,q,r):\n",
    "    n1 = q - p + 1\n",
    "    n2 = r - q\n",
    "    \n",
    "    #We first populate two lists that contain the sorted subsequences A[p,...,q] and A[q+1,...,r]\n",
    "    L = []\n",
    "    R = []\n",
    "    \n",
    "    for index in range(n1):\n",
    "        L.append(A[index + p])\n",
    "        \n",
    "    for index in range(n2):\n",
    "        R.append(A[index + q + 1])\n",
    "    \n",
    "    #We now overwrite the A[p,..,q,...r] section of the list by comparing the 'top-most'\n",
    "    #elements in the lists l and R and putting the smaller element in the corresponding\n",
    "    #entry in A. If one of the list is fully exposed/no longer available, we simply put the \n",
    "    #remaining list's elements in the corresponding positions in A.\n",
    "    \n",
    "    i = 0\n",
    "    j = 0\n",
    "    \n",
    "    for k in range(p,r+1):\n",
    "        \n",
    "        if i > n1-1:\n",
    "            A[k] = R[j]\n",
    "            j = j + 1\n",
    "        \n",
    "        elif j > n2-1:\n",
    "            A[k] = L[i]\n",
    "            i = i + 1\n",
    "            \n",
    "        elif L[i] < R[j]:\n",
    "            A[k] = L[i]\n",
    "            i = i + 1\n",
    "            \n",
    "        else:\n",
    "            A[k] = R[j]\n",
    "            j = j + 1 \n",
    "    \n",
    "    return A        "
   ]
  },
  {
   "cell_type": "code",
   "execution_count": 19,
   "metadata": {},
   "outputs": [],
   "source": [
    "#We now implement the MERGE-SORT algorithm.\n",
    "\n",
    "import math\n",
    "\n",
    "def Merge_Sort(A,p,r):\n",
    "    \n",
    "    if p == r:\n",
    "        \n",
    "        return A\n",
    "    \n",
    "    if p < r:\n",
    "        \n",
    "        q = math.floor((p+r)/2)\n",
    "        Merge_Sort(A,p,q)\n",
    "        Merge_Sort(A,q+1,r)\n",
    "        Merged_List = Merge(A,p,q,r)\n",
    "    \n",
    "    return Merged_List"
   ]
  },
  {
   "cell_type": "code",
   "execution_count": 20,
   "metadata": {},
   "outputs": [
    {
     "name": "stdout",
     "output_type": "stream",
     "text": [
      "[1, 3, 7, 9]\n"
     ]
    }
   ],
   "source": [
    "#We now analyze the merge sort algorithm.\n",
    "A = [1,7,9,3]\n",
    "B = Merge_Sort(A,0,3)\n",
    "print(B)"
   ]
  },
  {
   "cell_type": "markdown",
   "metadata": {},
   "source": [
    "## 2.3.4\n",
    "\n",
    "We implement insertion sort recursively."
   ]
  },
  {
   "cell_type": "code",
   "execution_count": 21,
   "metadata": {},
   "outputs": [],
   "source": [
    "def Insertion_Sort_Recursive(A):\n",
    "    #Here n is the length of the array\n",
    "    n = len(A)\n",
    "    \n",
    "    if n == 1:\n",
    "        \n",
    "        return A\n",
    "    \n",
    "    else:\n",
    "        \n",
    "        new_array = A[0:n-1]\n",
    "        last_element = A[n-1]\n",
    "        sorted_new_array = Insertion_Sort_Recursive(new_array)\n",
    "        \n",
    "        #We now 'merge' the sorted subarray A[1,...,n-1] and the one element subarray A[n]\n",
    "        \n",
    "        i = n - 2\n",
    "        sorted_new_array.insert(i + 1, '')\n",
    "       \n",
    "        while i >=0 and sorted_new_array[i] > last_element:\n",
    "        \n",
    "            sorted_new_array[i + 1] = sorted_new_array[i]\n",
    "            i = i - 1\n",
    "        \n",
    "        sorted_new_array[i+1] = last_element\n",
    "        \n",
    "        return sorted_new_array        "
   ]
  },
  {
   "cell_type": "code",
   "execution_count": 9,
   "metadata": {},
   "outputs": [
    {
     "name": "stdout",
     "output_type": "stream",
     "text": [
      "[1, 3, 4, 5, 8, 21, 33, 55, 55, 77]\n"
     ]
    }
   ],
   "source": [
    "#We test this algorthim now\n",
    "B = [5,55,3,1,77,55,4,8,33,21]\n",
    "D = Insertion_Sort_Recursive(B)\n",
    "print(D)"
   ]
  },
  {
   "cell_type": "markdown",
   "metadata": {},
   "source": [
    "The recursion relation for this algorthm is given by,\n",
    "$$\n",
    "T(n) = T(n-1) + \\Theta (n).\n",
    "$$\n",
    "The solution is $\\Theta(n^2)$. Make a recursion tree."
   ]
  },
  {
   "cell_type": "markdown",
   "metadata": {},
   "source": [
    "## 2.3.5\n",
    "\n",
    "We implement the binary search algorthim. We implicitly assume that the sequence is sorted."
   ]
  },
  {
   "cell_type": "code",
   "execution_count": 52,
   "metadata": {},
   "outputs": [],
   "source": [
    "def Binary_Search(S,start,end,v):\n",
    "    \n",
    "    #We first sort A using merge sort\n",
    "    n = end-start+1 #This is the length of A over which we are searching\n",
    "    \n",
    "    A = Merge_Sort(S,start,end)   \n",
    "    \n",
    "    if n == 1:\n",
    "        \n",
    "        Boolean = None\n",
    "        index = None\n",
    "        \n",
    "        if A[start] == v:\n",
    "            \n",
    "            index = start\n",
    "            Boolean = True\n",
    "            return index,Boolean\n",
    "        \n",
    "        else:\n",
    "            \n",
    "            Boolean = False\n",
    "            index = None \n",
    "            return index,Boolean\n",
    "    \n",
    "    else:\n",
    "        middle = math.floor((start+end)/2)\n",
    "        \n",
    "        if A[middle] == v:\n",
    "            index = middle\n",
    "            Boolean = True\n",
    "            return index,Boolean\n",
    "        \n",
    "        elif A[middle] > v:\n",
    "            index,Boolean = Binary_Search(A,start,middle-1,v)\n",
    "            return index,Boolean\n",
    "     \n",
    "        else:\n",
    "            index,Boolean =  Binary_Search(A,middle + 1,end,v)\n",
    "            return index,Boolean\n",
    "        \n",
    "#Here the index returned is in the new sorted list        "
   ]
  },
  {
   "cell_type": "code",
   "execution_count": 44,
   "metadata": {},
   "outputs": [
    {
     "name": "stdout",
     "output_type": "stream",
     "text": [
      "[1, 3, 3, 3, 9, 12, 22, 33, 44, 66, 122, 9822992]\n",
      "[1, 3, 3, 3, 9, 12, 22, 33, 44, 66, 122, 9822992]\n",
      "[1, 3, 3, 3, 9, 12, 22, 33, 44, 66, 122, 9822992]\n"
     ]
    },
    {
     "data": {
      "text/plain": [
       "(10, True)"
      ]
     },
     "execution_count": 44,
     "metadata": {},
     "output_type": "execute_result"
    }
   ],
   "source": [
    "#We test this algorthim now\n",
    "A = [33,22,12,44,122,9822992,3,1,9,3,66,3]\n",
    "n = len(A)\n",
    "Binary_Search(A,0,n-1,122)"
   ]
  },
  {
   "cell_type": "markdown",
   "metadata": {},
   "source": [
    "The recursion relation for the binary searc algorthm is given by,\n",
    "$$\n",
    "T(n) = T(n/2) + \\Theta (1).\n",
    "$$\n",
    "The solution is $\\Theta(\\lg n)$ by the master method."
   ]
  },
  {
   "cell_type": "markdown",
   "metadata": {},
   "source": [
    "## 2.3.7"
   ]
  },
  {
   "cell_type": "code",
   "execution_count": 12,
   "metadata": {},
   "outputs": [],
   "source": [
    "def Binary_Element_As_Sum_In_Set(A,start,end,x):\n",
    "    #We take the bases cases to be 2 and 3 so we don't get down to the case where's there's only\n",
    "    #one element in the subdivided set\n",
    "    n = end - start + 1 #Here we are worried about the number of elements in the set and not the indicies! Hence the +1\n",
    "    Boolean = None\n",
    "    \n",
    "    if n == 2:\n",
    "        if x == A[start] + A[start + 1]:\n",
    "            Boolean = True\n",
    "            return Boolean\n",
    "        else:\n",
    "            Boolean = False\n",
    "            return Boolean\n",
    "        \n",
    "    elif n == 3:\n",
    "        if x == A[start] + A[end] or x == A[start] + A[start + 1] or x == A[start + 1] + A[end]:\n",
    "            Boolean = True\n",
    "            return Boolean\n",
    "        else:\n",
    "            Boolean = False\n",
    "            return Boolean\n",
    "        \n",
    "    else:\n",
    "        middle = math.floor((start + end)/2)\n",
    "        Boolean1 = Binary_Element_As_Sum_In_Set(A,start,middle,x)\n",
    "        Boolean2 = Binary_Element_As_Sum_In_Set(A,middle+1,end,x)\n",
    "        \n",
    "        if Boolean1 == True or Boolean2 == True:\n",
    "            Boolean = True\n",
    "            return Boolean\n",
    "        \n",
    "        else:\n",
    "            #We now add elements from the two half sets and see if x is in one of those sets\n",
    "            for i in range(start,middle + 1):\n",
    "                for j in range(middle + 1, end + 1):\n",
    "                    if x == A[i] + A[j]:\n",
    "                        Boolean = True\n",
    "                        return Boolean\n",
    "                    \n",
    "            Boolean = False\n",
    "            return Boolean"
   ]
  },
  {
   "cell_type": "code",
   "execution_count": 13,
   "metadata": {},
   "outputs": [
    {
     "data": {
      "text/plain": [
       "False"
      ]
     },
     "execution_count": 13,
     "metadata": {},
     "output_type": "execute_result"
    }
   ],
   "source": [
    "#We test this algorthim now\n",
    "A = [1,3,11,55,77,10]\n",
    "Binary_Element_As_Sum_In_Set(A,0,5,22)"
   ]
  },
  {
   "cell_type": "markdown",
   "metadata": {},
   "source": [
    "<font color='red'>THIS IS WRONG!!! We iterated over both the sub-lists using two for loops, which would give a quadratic time complecity. The trick here is to first SORT the list. Sort the list using merge sort. For each element in the list, x, do a binary search for s - x. If it exisits, good; if not, move ahead.  </font>\n",
    "\n",
    "We implement the algorithm correctly below."
   ]
  },
  {
   "cell_type": "code",
   "execution_count": 50,
   "metadata": {},
   "outputs": [],
   "source": [
    "def sum_in_set(S,x):\n",
    "    \n",
    "    #We first sort the set S using merge sort\n",
    "    n = len(S)\n",
    "    \n",
    "    Sorted_S = Merge_Sort(S,0,n-1)\n",
    "    \n",
    "    #Now for each element s in Sorted_S, we check whether s - x is in Sorted_S using binary search\n",
    "    \n",
    "    for s in Sorted_S:\n",
    "        \n",
    "        index, Boolean = Binary_Search(Sorted_S,0,n-1,x-s)\n",
    "        \n",
    "        if Boolean == True:\n",
    "            \n",
    "            return s, x-s\n",
    "        \n",
    "    Boolean = False\n",
    "    \n",
    "    return Boolean"
   ]
  },
  {
   "cell_type": "code",
   "execution_count": 56,
   "metadata": {},
   "outputs": [
    {
     "name": "stdout",
     "output_type": "stream",
     "text": [
      "(1, 54)\n"
     ]
    }
   ],
   "source": [
    "S = [6,2,3,4,5,1,54]\n",
    "x = 55\n",
    "print(sum_in_set(S,x))"
   ]
  }
 ],
 "metadata": {
  "kernelspec": {
   "display_name": "Python 3",
   "language": "python",
   "name": "python3"
  },
  "language_info": {
   "codemirror_mode": {
    "name": "ipython",
    "version": 3
   },
   "file_extension": ".py",
   "mimetype": "text/x-python",
   "name": "python",
   "nbconvert_exporter": "python",
   "pygments_lexer": "ipython3",
   "version": "3.7.6"
  }
 },
 "nbformat": 4,
 "nbformat_minor": 2
}
